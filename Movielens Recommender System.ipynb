{
 "cells": [
  {
   "cell_type": "code",
   "execution_count": 1,
   "metadata": {},
   "outputs": [],
   "source": [
    "import pandas as pd\n",
    "import numpy as np\n",
    "import matplotlib.pyplot as plt\n",
    "from datetime import datetime"
   ]
  },
  {
   "cell_type": "markdown",
   "metadata": {},
   "source": [
    "Importing the data and sorting out columns as per the requiremnts of the question:"
   ]
  },
  {
   "cell_type": "code",
   "execution_count": 6,
   "metadata": {},
   "outputs": [
    {
     "data": {
      "text/html": [
       "<div>\n",
       "<style scoped>\n",
       "    .dataframe tbody tr th:only-of-type {\n",
       "        vertical-align: middle;\n",
       "    }\n",
       "\n",
       "    .dataframe tbody tr th {\n",
       "        vertical-align: top;\n",
       "    }\n",
       "\n",
       "    .dataframe thead th {\n",
       "        text-align: right;\n",
       "    }\n",
       "</style>\n",
       "<table border=\"1\" class=\"dataframe\">\n",
       "  <thead>\n",
       "    <tr style=\"text-align: right;\">\n",
       "      <th></th>\n",
       "      <th>user_id</th>\n",
       "      <th>movie_id</th>\n",
       "      <th>rating</th>\n",
       "      <th>timestamp</th>\n",
       "    </tr>\n",
       "  </thead>\n",
       "  <tbody>\n",
       "    <tr>\n",
       "      <th>0</th>\n",
       "      <td>196</td>\n",
       "      <td>242</td>\n",
       "      <td>3</td>\n",
       "      <td>881250949</td>\n",
       "    </tr>\n",
       "    <tr>\n",
       "      <th>1</th>\n",
       "      <td>186</td>\n",
       "      <td>302</td>\n",
       "      <td>3</td>\n",
       "      <td>891717742</td>\n",
       "    </tr>\n",
       "    <tr>\n",
       "      <th>2</th>\n",
       "      <td>22</td>\n",
       "      <td>377</td>\n",
       "      <td>1</td>\n",
       "      <td>878887116</td>\n",
       "    </tr>\n",
       "    <tr>\n",
       "      <th>3</th>\n",
       "      <td>244</td>\n",
       "      <td>51</td>\n",
       "      <td>2</td>\n",
       "      <td>880606923</td>\n",
       "    </tr>\n",
       "    <tr>\n",
       "      <th>4</th>\n",
       "      <td>166</td>\n",
       "      <td>346</td>\n",
       "      <td>1</td>\n",
       "      <td>886397596</td>\n",
       "    </tr>\n",
       "  </tbody>\n",
       "</table>\n",
       "</div>"
      ],
      "text/plain": [
       "   user_id  movie_id  rating  timestamp\n",
       "0      196       242       3  881250949\n",
       "1      186       302       3  891717742\n",
       "2       22       377       1  878887116\n",
       "3      244        51       2  880606923\n",
       "4      166       346       1  886397596"
      ]
     },
     "execution_count": 6,
     "metadata": {},
     "output_type": "execute_result"
    }
   ],
   "source": [
    "#Importing the user and movie rating data:\n",
    "movielens = pd.read_csv('C:/Users/Pulkit Dixit/Downloads/ml-100k/ml-100k/u.data', \n",
    "                        sep='\\t', \n",
    "                        header=None, \n",
    "                        names=['user_id','movie_id','rating','timestamp'])\n",
    "movielens.head()"
   ]
  },
  {
   "cell_type": "code",
   "execution_count": 5,
   "metadata": {},
   "outputs": [
    {
     "name": "stdout",
     "output_type": "stream",
     "text": [
      "   movie_id         movie_name release_date  video_release_date  \\\n",
      "0         1   Toy Story (1995)  01-Jan-1995                 NaN   \n",
      "1         2   GoldenEye (1995)  01-Jan-1995                 NaN   \n",
      "2         3  Four Rooms (1995)  01-Jan-1995                 NaN   \n",
      "3         4  Get Shorty (1995)  01-Jan-1995                 NaN   \n",
      "4         5     Copycat (1995)  01-Jan-1995                 NaN   \n",
      "\n",
      "                                            imdb_url  unknown  action  \\\n",
      "0  http://us.imdb.com/M/title-exact?Toy%20Story%2...        0       0   \n",
      "1  http://us.imdb.com/M/title-exact?GoldenEye%20(...        0       1   \n",
      "2  http://us.imdb.com/M/title-exact?Four%20Rooms%...        0       0   \n",
      "3  http://us.imdb.com/M/title-exact?Get%20Shorty%...        0       1   \n",
      "4  http://us.imdb.com/M/title-exact?Copycat%20(1995)        0       0   \n",
      "\n",
      "   adventure  animation  children  ...  fantasy  film_noir  horror  musical  \\\n",
      "0          0          1         1  ...        0          0       0        0   \n",
      "1          1          0         0  ...        0          0       0        0   \n",
      "2          0          0         0  ...        0          0       0        0   \n",
      "3          0          0         0  ...        0          0       0        0   \n",
      "4          0          0         0  ...        0          0       0        0   \n",
      "\n",
      "   mystery  romance  sci_fi  thriller  war  western  \n",
      "0        0        0       0         0    0        0  \n",
      "1        0        0       0         1    0        0  \n",
      "2        0        0       0         1    0        0  \n",
      "3        0        0       0         0    0        0  \n",
      "4        0        0       0         1    0        0  \n",
      "\n",
      "[5 rows x 24 columns]\n"
     ]
    }
   ],
   "source": [
    "#Importing movies data:\n",
    "movies = pd.read_csv('C:/Users/Pulkit Dixit/Downloads/ml-100k/ml-100k/u.item', \n",
    "                     sep = '|', \n",
    "                     header = None, \n",
    "                     encoding='latin-1',\n",
    "                     names = ['movie_id', \n",
    "                              'movie_name', \n",
    "                              'release_date', \n",
    "                              'video_release_date',\n",
    "                              'imdb_url',\n",
    "                              'unknown',\n",
    "                              'action',\n",
    "                              'adventure',\n",
    "                              'animation',\n",
    "                              'children',\n",
    "                              'comedy',\n",
    "                              'crime',\n",
    "                              'documentary',\n",
    "                              'drama',\n",
    "                              'fantasy',\n",
    "                              'film_noir',\n",
    "                              'horror',\n",
    "                              'musical',\n",
    "                              'mystery',\n",
    "                              'romance',\n",
    "                              'sci_fi',\n",
    "                              'thriller',\n",
    "                              'war',\n",
    "                              'western']\n",
    "                    )\n",
    "print(movies.head())"
   ]
  },
  {
   "cell_type": "code",
   "execution_count": 4,
   "metadata": {},
   "outputs": [
    {
     "name": "stdout",
     "output_type": "stream",
     "text": [
      "   user_id  age gender  occupation zipcode\n",
      "0        1   24      M  technician   85711\n",
      "1        2   53      F       other   94043\n",
      "2        3   23      M      writer   32067\n",
      "3        4   24      M  technician   43537\n",
      "4        5   33      F       other   15213\n",
      "<class 'pandas.core.frame.DataFrame'>\n",
      "RangeIndex: 943 entries, 0 to 942\n",
      "Data columns (total 5 columns):\n",
      "user_id       943 non-null int64\n",
      "age           943 non-null int64\n",
      "gender        943 non-null category\n",
      "occupation    943 non-null category\n",
      "zipcode       943 non-null object\n",
      "dtypes: category(2), int64(2), object(1)\n",
      "memory usage: 24.9+ KB\n",
      "None\n"
     ]
    }
   ],
   "source": [
    "#Importing users data:\n",
    "users = pd.read_csv('C:/Users/Pulkit Dixit/Downloads/ml-100k/ml-100k/u.user', \n",
    "                     sep = '|', \n",
    "                     header = None, \n",
    "                     names = ['user_id', 'age', 'gender', 'occupation', 'zipcode'])\n",
    "\n",
    "#Converting occupation and gender to categorical variables:\n",
    "users[['occupation', 'gender']] = users[['occupation', 'gender']].astype('category')\n",
    "print(users.head())\n",
    "print(users.info())"
   ]
  },
  {
   "cell_type": "markdown",
   "metadata": {},
   "source": [
    "Using matrix factorization to predict the ratings:"
   ]
  },
  {
   "cell_type": "code",
   "execution_count": 8,
   "metadata": {},
   "outputs": [],
   "source": [
    "def matrix_factorization(R, k=2, alpha=0.1, beta=0.01, steps=20):\n",
    "    #R = input matrix\n",
    "    #k = number of latent factors\n",
    "    #alpha, beta = tuning parameters\n",
    "    #steps = number of iterations\n",
    "    \n",
    "    #Setting variables for the dimensions of the matrix for users and movies:\n",
    "    num_users = R.shape[0]\n",
    "    num_movies = R.shape[1]\n",
    "    \n",
    "    #Setting P and Q as random normalized latent factor matrices\n",
    "    #for users and movies respectively:\n",
    "    P = np.round(np.random.rand(num_users, k), 2)\n",
    "    Q = np.round(np.random.rand(num_movies, k), 2)\n",
    "    \n",
    "    #Looping to get the least error value:\n",
    "    for n in range(steps):\n",
    "        for i in range(num_users):\n",
    "            for j in range(num_movies):\n",
    "                if R[i][j]>0:\n",
    "                    e = R[i][j] - np.round((np.dot(P[i,:],Q[j,:].T)),2)\n",
    "                    e = round(e,2)\n",
    "                    \n",
    "                    #Updating the user and movie latent feature matrices:\n",
    "                    P[i, :] = P[i, :] + alpha * (e * Q[j, :] - beta * P[i,:])\n",
    "                    P[i, :] = np.round(P[i,:], 2)\n",
    "                    Q[j, :] = Q[j, :] + alpha * (e * P[i, :] - beta * Q[j,:])\n",
    "                    Q[j, :] = np.round(Q[j,:], 2)\n",
    "    \n",
    "    #Returning the predicted matrix:\n",
    "    return(P.dot(Q.T))"
   ]
  },
  {
   "cell_type": "markdown",
   "metadata": {},
   "source": [
    "Creating a function to calculate the RMSE of the predictions:"
   ]
  },
  {
   "cell_type": "code",
   "execution_count": 9,
   "metadata": {},
   "outputs": [],
   "source": [
    "def rmse(R, predR):\n",
    "    \n",
    "    num_users = R.shape[0]\n",
    "    num_movies = R.shape[1]\n",
    "    \n",
    "    err = 0\n",
    "    \n",
    "    for i in range(num_users):\n",
    "        for j in range(num_movies):\n",
    "            if R[i][j] > 0:\n",
    "                err = err + pow((R[i][j] - predR[i][j]), 2)\n",
    "    \n",
    "    return(np.sqrt(err))"
   ]
  },
  {
   "cell_type": "markdown",
   "metadata": {},
   "source": [
    "Running the functions on the given dataset:"
   ]
  },
  {
   "cell_type": "code",
   "execution_count": 10,
   "metadata": {},
   "outputs": [
    {
     "name": "stdout",
     "output_type": "stream",
     "text": [
      "movie_id  1     2     3     4     5     6     7     8     9     10    ...  \\\n",
      "user_id                                                               ...   \n",
      "1            5     3     4     3     3     5     4     1     5     3  ...   \n",
      "2            4     0     0     0     0     0     0     0     0     2  ...   \n",
      "3            0     0     0     0     0     0     0     0     0     0  ...   \n",
      "4            0     0     0     0     0     0     0     0     0     0  ...   \n",
      "5            4     3     0     0     0     0     0     0     0     0  ...   \n",
      "\n",
      "movie_id  1673  1674  1675  1676  1677  1678  1679  1680  1681  1682  \n",
      "user_id                                                               \n",
      "1            0     0     0     0     0     0     0     0     0     0  \n",
      "2            0     0     0     0     0     0     0     0     0     0  \n",
      "3            0     0     0     0     0     0     0     0     0     0  \n",
      "4            0     0     0     0     0     0     0     0     0     0  \n",
      "5            0     0     0     0     0     0     0     0     0     0  \n",
      "\n",
      "[5 rows x 1682 columns]\n",
      "[[3.9552 2.9237 2.6848 ... 2.981  3.2211 2.5331]\n",
      " [3.9386 3.269  2.0188 ... 2.7368 3.6354 2.1047]\n",
      " [3.6017 1.9633 3.1603 ... 2.7234 2.6822 2.2726]\n",
      " ...\n",
      " [4.3779 3.799  2.6002 ... 3.239  4.0041 2.379 ]\n",
      " [4.6303 4.44   2.8661 ... 2.6739 3.8326 2.3943]\n",
      " [3.735  3.8897 4.1091 ... 2.3946 2.541  2.9971]]\n",
      "244.48192319013975\n"
     ]
    }
   ],
   "source": [
    "R = pd.read_csv('C:/Users/Pulkit Dixit/Downloads/ml-100k/ml-100k/u.data', \n",
    "                        sep='\\t', \n",
    "                        header=None, \n",
    "                        names=['user_id','movie_id','rating','timestamp'])\n",
    "\n",
    "#Create a pivot table of user_id, movie_id and ratings:\n",
    "R = R.pivot_table(index='user_id', columns='movie_id', values='rating', fill_value = 0)\n",
    "print(R.head())\n",
    "\n",
    "#Extract a matrix of values:\n",
    "R = R.values\n",
    "R = R.astype(int)\n",
    "\n",
    "#Run the functions:\n",
    "predR = matrix_factorization(R, 10, 0.01, 0.0001, 30)\n",
    "rms_error = rmse(R, predR)\n",
    "\n",
    "#Print the results:\n",
    "print(predR)\n",
    "print(rms_error)"
   ]
  },
  {
   "cell_type": "markdown",
   "metadata": {},
   "source": [
    "Performing 5-fold CV on the training sets:"
   ]
  },
  {
   "cell_type": "code",
   "execution_count": 35,
   "metadata": {},
   "outputs": [],
   "source": [
    "def training_set():\n",
    "    #Creating a list to store the RMSE values for each iteration:\n",
    "    RMSE = list()\n",
    "    \n",
    "    #Creating a loop to run 5 times for the 5 training sets:\n",
    "    for i in range(5):\n",
    "        #Import data:\n",
    "        path = 'C:/Users/Pulkit Dixit/Downloads/ml-100k/ml-100k/u'+str(i+1)+'.base'\n",
    "        train_set = pd.read_csv(path, \n",
    "                                sep='\\t', \n",
    "                                header=None, \n",
    "                                names=['user_id','movie_id','rating','timestamp'])\n",
    "\n",
    "        #Create a pivot table of user_id, movie_id and ratings:\n",
    "        train_set = train_set.pivot_table(index='user_id', columns='movie_id', values='rating', fill_value = 0)\n",
    "        #print(train_set.head())\n",
    "\n",
    "        #Extract a matrix of values:\n",
    "        train_set = train_set.values\n",
    "        train_set = train_set.astype(int)\n",
    "        \n",
    "        #Run the functions:\n",
    "        predR = matrix_factorization(train_set, 10, 0.01, 0.0001, 10)\n",
    "        err = rmse(train_set, predR)\n",
    "        print(err)\n",
    "        RMSE.append(err)\n",
    "    \n",
    "    return(RMSE)"
   ]
  },
  {
   "cell_type": "code",
   "execution_count": 36,
   "metadata": {},
   "outputs": [
    {
     "name": "stdout",
     "output_type": "stream",
     "text": [
      "256.25412314825064\n",
      "257.30452648911864\n",
      "256.31879149463253\n",
      "256.75125602933196\n",
      "256.66967034365393\n"
     ]
    }
   ],
   "source": [
    "RMSE_train = training_set()"
   ]
  },
  {
   "cell_type": "code",
   "execution_count": 37,
   "metadata": {},
   "outputs": [
    {
     "name": "stdout",
     "output_type": "stream",
     "text": [
      "The training RMSE is: 256.65967350099754\n"
     ]
    }
   ],
   "source": [
    "print('The training RMSE is:', sum(RMSE_train)/len(RMSE_train))"
   ]
  },
  {
   "cell_type": "markdown",
   "metadata": {},
   "source": [
    "Getting the RMSE for the 5 test sets:"
   ]
  },
  {
   "cell_type": "code",
   "execution_count": 56,
   "metadata": {},
   "outputs": [],
   "source": [
    "def test_set():\n",
    "    #Creating a list to store the RMSE values for each iteration:\n",
    "    RMSE = list()\n",
    "    \n",
    "    #Creating a loop to run 5 times for the 5 training sets:\n",
    "    for i in range(5):\n",
    "        #Import data:\n",
    "        path = 'C:/Users/Pulkit Dixit/Downloads/ml-100k/ml-100k/u'+str(i+1)+'.test'\n",
    "        test_set = pd.read_csv(path, \n",
    "                                sep='\\t', \n",
    "                                header=None, \n",
    "                                names=['user_id','movie_id','rating','timestamp'])\n",
    "\n",
    "        #Create a pivot table of user_id, movie_id and ratings:\n",
    "        test_set = test_set.pivot_table(index='user_id', columns='movie_id', values='rating', fill_value = 0)\n",
    "        #print(train_set.head())\n",
    "\n",
    "        #Extract a matrix of values:\n",
    "        test_set = test_set.values\n",
    "        test_set = test_set.astype(int)\n",
    "        \n",
    "        #Run the functions:\n",
    "        predR = matrix_factorization(test_set, 10, 0.01, 0.0001, 10)\n",
    "        err = rmse(test_set, predR)\n",
    "        print(err)\n",
    "        RMSE.append(err)\n",
    "    \n",
    "    return(RMSE)"
   ]
  },
  {
   "cell_type": "code",
   "execution_count": 44,
   "metadata": {},
   "outputs": [
    {
     "name": "stdout",
     "output_type": "stream",
     "text": [
      "92.73448162582262\n",
      "88.52239434030257\n",
      "87.86139176891066\n",
      "87.49892897550215\n",
      "88.55255250268053\n"
     ]
    }
   ],
   "source": [
    "RMSE_test = test_set()"
   ]
  },
  {
   "cell_type": "code",
   "execution_count": 45,
   "metadata": {},
   "outputs": [
    {
     "name": "stdout",
     "output_type": "stream",
     "text": [
      "The test RMSE is: 89.03394984264371\n"
     ]
    }
   ],
   "source": [
    "print('The test RMSE is:', sum(RMSE_test)/len(RMSE_test))"
   ]
  },
  {
   "cell_type": "markdown",
   "metadata": {},
   "source": [
    "These results are in line with expectations. Since the training sets have 4 times the data, their RMSEs are a lot more than the test RMSE, but not proportionally. This shows an absence of overfitting."
   ]
  },
  {
   "cell_type": "markdown",
   "metadata": {},
   "source": [
    "Merging datasets to help create visualizations:"
   ]
  },
  {
   "cell_type": "code",
   "execution_count": 32,
   "metadata": {},
   "outputs": [
    {
     "data": {
      "text/html": [
       "<div>\n",
       "<style scoped>\n",
       "    .dataframe tbody tr th:only-of-type {\n",
       "        vertical-align: middle;\n",
       "    }\n",
       "\n",
       "    .dataframe tbody tr th {\n",
       "        vertical-align: top;\n",
       "    }\n",
       "\n",
       "    .dataframe thead th {\n",
       "        text-align: right;\n",
       "    }\n",
       "</style>\n",
       "<table border=\"1\" class=\"dataframe\">\n",
       "  <thead>\n",
       "    <tr style=\"text-align: right;\">\n",
       "      <th></th>\n",
       "      <th>user_id</th>\n",
       "      <th>movie_id</th>\n",
       "      <th>rating</th>\n",
       "      <th>timestamp</th>\n",
       "      <th>movie_name</th>\n",
       "      <th>release_date</th>\n",
       "      <th>video_release_date</th>\n",
       "      <th>imdb_url</th>\n",
       "      <th>unknown</th>\n",
       "      <th>action</th>\n",
       "      <th>...</th>\n",
       "      <th>mystery</th>\n",
       "      <th>romance</th>\n",
       "      <th>sci_fi</th>\n",
       "      <th>thriller</th>\n",
       "      <th>war</th>\n",
       "      <th>western</th>\n",
       "      <th>age</th>\n",
       "      <th>gender</th>\n",
       "      <th>occupation</th>\n",
       "      <th>zipcode</th>\n",
       "    </tr>\n",
       "  </thead>\n",
       "  <tbody>\n",
       "    <tr>\n",
       "      <th>0</th>\n",
       "      <td>196</td>\n",
       "      <td>242</td>\n",
       "      <td>3</td>\n",
       "      <td>881250949</td>\n",
       "      <td>Kolya (1996)</td>\n",
       "      <td>24-Jan-1997</td>\n",
       "      <td>NaN</td>\n",
       "      <td>http://us.imdb.com/M/title-exact?Kolya%20(1996)</td>\n",
       "      <td>0</td>\n",
       "      <td>0</td>\n",
       "      <td>...</td>\n",
       "      <td>0</td>\n",
       "      <td>0</td>\n",
       "      <td>0</td>\n",
       "      <td>0</td>\n",
       "      <td>0</td>\n",
       "      <td>0</td>\n",
       "      <td>49</td>\n",
       "      <td>M</td>\n",
       "      <td>writer</td>\n",
       "      <td>55105</td>\n",
       "    </tr>\n",
       "    <tr>\n",
       "      <th>1</th>\n",
       "      <td>196</td>\n",
       "      <td>257</td>\n",
       "      <td>2</td>\n",
       "      <td>881251577</td>\n",
       "      <td>Men in Black (1997)</td>\n",
       "      <td>04-Jul-1997</td>\n",
       "      <td>NaN</td>\n",
       "      <td>http://us.imdb.com/M/title-exact?Men+in+Black+...</td>\n",
       "      <td>0</td>\n",
       "      <td>1</td>\n",
       "      <td>...</td>\n",
       "      <td>0</td>\n",
       "      <td>0</td>\n",
       "      <td>1</td>\n",
       "      <td>0</td>\n",
       "      <td>0</td>\n",
       "      <td>0</td>\n",
       "      <td>49</td>\n",
       "      <td>M</td>\n",
       "      <td>writer</td>\n",
       "      <td>55105</td>\n",
       "    </tr>\n",
       "    <tr>\n",
       "      <th>2</th>\n",
       "      <td>196</td>\n",
       "      <td>111</td>\n",
       "      <td>4</td>\n",
       "      <td>881251793</td>\n",
       "      <td>Truth About Cats &amp; Dogs, The (1996)</td>\n",
       "      <td>26-Apr-1996</td>\n",
       "      <td>NaN</td>\n",
       "      <td>http://us.imdb.com/M/title-exact?Truth%20About...</td>\n",
       "      <td>0</td>\n",
       "      <td>0</td>\n",
       "      <td>...</td>\n",
       "      <td>0</td>\n",
       "      <td>1</td>\n",
       "      <td>0</td>\n",
       "      <td>0</td>\n",
       "      <td>0</td>\n",
       "      <td>0</td>\n",
       "      <td>49</td>\n",
       "      <td>M</td>\n",
       "      <td>writer</td>\n",
       "      <td>55105</td>\n",
       "    </tr>\n",
       "    <tr>\n",
       "      <th>3</th>\n",
       "      <td>196</td>\n",
       "      <td>25</td>\n",
       "      <td>4</td>\n",
       "      <td>881251955</td>\n",
       "      <td>Birdcage, The (1996)</td>\n",
       "      <td>08-Mar-1996</td>\n",
       "      <td>NaN</td>\n",
       "      <td>http://us.imdb.com/M/title-exact?Birdcage,%20T...</td>\n",
       "      <td>0</td>\n",
       "      <td>0</td>\n",
       "      <td>...</td>\n",
       "      <td>0</td>\n",
       "      <td>0</td>\n",
       "      <td>0</td>\n",
       "      <td>0</td>\n",
       "      <td>0</td>\n",
       "      <td>0</td>\n",
       "      <td>49</td>\n",
       "      <td>M</td>\n",
       "      <td>writer</td>\n",
       "      <td>55105</td>\n",
       "    </tr>\n",
       "    <tr>\n",
       "      <th>4</th>\n",
       "      <td>196</td>\n",
       "      <td>382</td>\n",
       "      <td>4</td>\n",
       "      <td>881251843</td>\n",
       "      <td>Adventures of Priscilla, Queen of the Desert, ...</td>\n",
       "      <td>01-Jan-1994</td>\n",
       "      <td>NaN</td>\n",
       "      <td>http://us.imdb.com/M/title-exact?Adventures%20...</td>\n",
       "      <td>0</td>\n",
       "      <td>0</td>\n",
       "      <td>...</td>\n",
       "      <td>0</td>\n",
       "      <td>0</td>\n",
       "      <td>0</td>\n",
       "      <td>0</td>\n",
       "      <td>0</td>\n",
       "      <td>0</td>\n",
       "      <td>49</td>\n",
       "      <td>M</td>\n",
       "      <td>writer</td>\n",
       "      <td>55105</td>\n",
       "    </tr>\n",
       "  </tbody>\n",
       "</table>\n",
       "<p>5 rows × 31 columns</p>\n",
       "</div>"
      ],
      "text/plain": [
       "   user_id  movie_id  rating  timestamp  \\\n",
       "0      196       242       3  881250949   \n",
       "1      196       257       2  881251577   \n",
       "2      196       111       4  881251793   \n",
       "3      196        25       4  881251955   \n",
       "4      196       382       4  881251843   \n",
       "\n",
       "                                          movie_name release_date  \\\n",
       "0                                       Kolya (1996)  24-Jan-1997   \n",
       "1                                Men in Black (1997)  04-Jul-1997   \n",
       "2                Truth About Cats & Dogs, The (1996)  26-Apr-1996   \n",
       "3                               Birdcage, The (1996)  08-Mar-1996   \n",
       "4  Adventures of Priscilla, Queen of the Desert, ...  01-Jan-1994   \n",
       "\n",
       "   video_release_date                                           imdb_url  \\\n",
       "0                 NaN    http://us.imdb.com/M/title-exact?Kolya%20(1996)   \n",
       "1                 NaN  http://us.imdb.com/M/title-exact?Men+in+Black+...   \n",
       "2                 NaN  http://us.imdb.com/M/title-exact?Truth%20About...   \n",
       "3                 NaN  http://us.imdb.com/M/title-exact?Birdcage,%20T...   \n",
       "4                 NaN  http://us.imdb.com/M/title-exact?Adventures%20...   \n",
       "\n",
       "   unknown  action  ...  mystery  romance  sci_fi  thriller  war  western  \\\n",
       "0        0       0  ...        0        0       0         0    0        0   \n",
       "1        0       1  ...        0        0       1         0    0        0   \n",
       "2        0       0  ...        0        1       0         0    0        0   \n",
       "3        0       0  ...        0        0       0         0    0        0   \n",
       "4        0       0  ...        0        0       0         0    0        0   \n",
       "\n",
       "   age  gender  occupation  zipcode  \n",
       "0   49       M      writer    55105  \n",
       "1   49       M      writer    55105  \n",
       "2   49       M      writer    55105  \n",
       "3   49       M      writer    55105  \n",
       "4   49       M      writer    55105  \n",
       "\n",
       "[5 rows x 31 columns]"
      ]
     },
     "execution_count": 32,
     "metadata": {},
     "output_type": "execute_result"
    }
   ],
   "source": [
    "#Merging the main dataset with the movies and users datasets:\n",
    "movielens = pd.merge(movielens, movies, on = 'movie_id')\n",
    "movielens = pd.merge(movielens, users, on = 'user_id')\n",
    "movielens.head()"
   ]
  },
  {
   "cell_type": "markdown",
   "metadata": {},
   "source": [
    "Visualizing the distribution of ratings by movie:"
   ]
  },
  {
   "cell_type": "code",
   "execution_count": 33,
   "metadata": {},
   "outputs": [
    {
     "data": {
      "text/html": [
       "<div>\n",
       "<style scoped>\n",
       "    .dataframe tbody tr th:only-of-type {\n",
       "        vertical-align: middle;\n",
       "    }\n",
       "\n",
       "    .dataframe tbody tr th {\n",
       "        vertical-align: top;\n",
       "    }\n",
       "\n",
       "    .dataframe thead th {\n",
       "        text-align: right;\n",
       "    }\n",
       "</style>\n",
       "<table border=\"1\" class=\"dataframe\">\n",
       "  <thead>\n",
       "    <tr style=\"text-align: right;\">\n",
       "      <th></th>\n",
       "      <th>average_rating</th>\n",
       "      <th>number_of_ratings</th>\n",
       "    </tr>\n",
       "    <tr>\n",
       "      <th>movie_name</th>\n",
       "      <th></th>\n",
       "      <th></th>\n",
       "    </tr>\n",
       "  </thead>\n",
       "  <tbody>\n",
       "    <tr>\n",
       "      <th>'Til There Was You (1997)</th>\n",
       "      <td>2.333333</td>\n",
       "      <td>9</td>\n",
       "    </tr>\n",
       "    <tr>\n",
       "      <th>1-900 (1994)</th>\n",
       "      <td>2.600000</td>\n",
       "      <td>5</td>\n",
       "    </tr>\n",
       "    <tr>\n",
       "      <th>101 Dalmatians (1996)</th>\n",
       "      <td>2.908257</td>\n",
       "      <td>109</td>\n",
       "    </tr>\n",
       "    <tr>\n",
       "      <th>12 Angry Men (1957)</th>\n",
       "      <td>4.344000</td>\n",
       "      <td>125</td>\n",
       "    </tr>\n",
       "    <tr>\n",
       "      <th>187 (1997)</th>\n",
       "      <td>3.024390</td>\n",
       "      <td>41</td>\n",
       "    </tr>\n",
       "  </tbody>\n",
       "</table>\n",
       "</div>"
      ],
      "text/plain": [
       "                           average_rating  number_of_ratings\n",
       "movie_name                                                  \n",
       "'Til There Was You (1997)        2.333333                  9\n",
       "1-900 (1994)                     2.600000                  5\n",
       "101 Dalmatians (1996)            2.908257                109\n",
       "12 Angry Men (1957)              4.344000                125\n",
       "187 (1997)                       3.024390                 41"
      ]
     },
     "execution_count": 33,
     "metadata": {},
     "output_type": "execute_result"
    }
   ],
   "source": [
    "#Creating a summary table for average and counts of ratings by movie:\n",
    "rating_summary = pd.DataFrame(movielens.groupby('movie_name')['rating'].mean())\n",
    "rating_summary['number_of_ratings'] = movielens.groupby('movie_name')['rating'].count()\n",
    "rating_summary.columns = ['average_rating', 'number_of_ratings']\n",
    "rating_summary.head()"
   ]
  },
  {
   "cell_type": "code",
   "execution_count": 34,
   "metadata": {},
   "outputs": [
    {
     "data": {
      "text/plain": [
       "<matplotlib.axes._subplots.AxesSubplot at 0x1cebbc7e940>"
      ]
     },
     "execution_count": 34,
     "metadata": {},
     "output_type": "execute_result"
    },
    {
     "data": {
      "image/png": "[encoded data removed]",
      "text/plain": [
       "<Figure size 432x288 with 1 Axes>"
      ]
     },
     "metadata": {
      "needs_background": "light"
     },
     "output_type": "display_data"
    }
   ],
   "source": [
    "#Creating a histogram of average ratings:\n",
    "rating_summary['average_rating'].hist(bins=30)"
   ]
  },
  {
   "cell_type": "markdown",
   "metadata": {},
   "source": [
    "The above graph shows that most movies are rated between 2.5 an 4.0. This shows that most viewers either rate movies as at least decent, or watch previously well rated movies."
   ]
  },
  {
   "cell_type": "code",
   "execution_count": 46,
   "metadata": {},
   "outputs": [
    {
     "data": {
      "text/plain": [
       "<matplotlib.axes._subplots.AxesSubplot at 0x1cec05fc940>"
      ]
     },
     "execution_count": 46,
     "metadata": {},
     "output_type": "execute_result"
    },
    {
     "data": {
      "image/png": "[encoded data removed]",
      "text/plain": [
       "<Figure size 432x288 with 1 Axes>"
      ]
     },
     "metadata": {
      "needs_background": "light"
     },
     "output_type": "display_data"
    }
   ],
   "source": [
    "#Creating a histogram of counts of movie ratings:\n",
    "rating_summary['number_of_ratings'].hist(bins=50)"
   ]
  },
  {
   "cell_type": "markdown",
   "metadata": {},
   "source": [
    "The above graph shows that very few movies are actually rated, thus showing sparsity in the data."
   ]
  },
  {
   "cell_type": "code",
   "execution_count": 47,
   "metadata": {},
   "outputs": [
    {
     "data": {
      "text/plain": [
       "<matplotlib.collections.PathCollection at 0x1cec05f4c18>"
      ]
     },
     "execution_count": 47,
     "metadata": {},
     "output_type": "execute_result"
    },
    {
     "data": {
      "image/png": "[encoded data removed]",
      "text/plain": [
       "<Figure size 432x288 with 1 Axes>"
      ]
     },
     "metadata": {
      "needs_background": "light"
     },
     "output_type": "display_data"
    }
   ],
   "source": [
    "#Creating a scatterplot:\n",
    "plt.scatter(rating_summary['number_of_ratings'], rating_summary['average_rating'])"
   ]
  },
  {
   "cell_type": "markdown",
   "metadata": {},
   "source": [
    "The above graph shows that movies tend to get rated better and better as their viewings increase. This might be because of bias from the user, since he/she only views well reviewed movies and proceeds to rate them highly.\n",
    "\n",
    "The next few graphs show more biases from the users, based on their genders and age-groups."
   ]
  },
  {
   "cell_type": "code",
   "execution_count": 50,
   "metadata": {},
   "outputs": [
    {
     "data": {
      "text/plain": [
       "[Text(0, 0.5, 'Average Rating'), Text(0.5, 0, 'Number of Ratings')]"
      ]
     },
     "execution_count": 50,
     "metadata": {},
     "output_type": "execute_result"
    },
    {
     "data": {
      "image/png": "[encoded data removed]",
      "text/plain": [
       "<Figure size 432x216 with 2 Axes>"
      ]
     },
     "metadata": {
      "needs_background": "light"
     },
     "output_type": "display_data"
    }
   ],
   "source": [
    "#Categorizign users based on genders:\n",
    "muser_rating_summary = pd.DataFrame(movielens.loc[movielens['gender'] == 'M'].groupby(['user_id', 'gender'])['rating'].mean())\n",
    "muser_rating_summary['number_of_ratings'] = movielens.loc[movielens['gender'] == 'M'].groupby(['user_id', 'gender'])['rating'].count()\n",
    "muser_rating_summary.columns = ['average_rating', 'number_of_ratings']\n",
    "\n",
    "fuser_rating_summary = pd.DataFrame(movielens.loc[movielens['gender'] == 'F'].groupby(['user_id', 'gender'])['rating'].mean())\n",
    "fuser_rating_summary['number_of_ratings'] = movielens.loc[movielens['gender'] == 'F'].groupby(['user_id', 'gender'])['rating'].count()\n",
    "fuser_rating_summary.columns = ['average_rating', 'number_of_ratings']\n",
    "\n",
    "f, (ax1, ax2) = plt.subplots(1, 2, sharey=True, figsize = (6,3))\n",
    "\n",
    "ax1.scatter(muser_rating_summary['number_of_ratings'], muser_rating_summary['average_rating'])\n",
    "ax1.set_title('Male')\n",
    "ax1.set(xlabel = 'Number of Ratings', ylabel = 'Average Rating')\n",
    "\n",
    "ax2.scatter(fuser_rating_summary['number_of_ratings'], fuser_rating_summary['average_rating'])\n",
    "ax2.set_title('Female')\n",
    "ax2.set(xlabel = 'Number of Ratings', ylabel = 'Average Rating')"
   ]
  },
  {
   "cell_type": "code",
   "execution_count": 51,
   "metadata": {},
   "outputs": [
    {
     "data": {
      "text/plain": [
       "[Text(0, 0.5, 'Average Rating'), Text(0.5, 0, 'Number of Ratings')]"
      ]
     },
     "execution_count": 51,
     "metadata": {},
     "output_type": "execute_result"
    },
    {
     "data": {
      "image/png": "[encoded data removed]",
      "text/plain": [
       "<Figure size 612x216 with 3 Axes>"
      ]
     },
     "metadata": {
      "needs_background": "light"
     },
     "output_type": "display_data"
    }
   ],
   "source": [
    "#Categorization based on age-groups:\n",
    "user25_rating_summary = pd.DataFrame(movielens.loc[movielens['age'] <= 27].groupby(['user_id', 'age'])['rating'].mean())\n",
    "user25_rating_summary['number_of_ratings'] = movielens.loc[movielens['age'] <= 27].groupby(['user_id', 'age'])['rating'].count()\n",
    "user25_rating_summary.columns = ['average_rating', 'number_of_ratings']\n",
    "\n",
    "user2540_rating_summary = pd.DataFrame(movielens.loc[(movielens['age'] > 27) & (movielens['age'] <= 40)].groupby(['user_id', 'age'])['rating'].mean())\n",
    "user2540_rating_summary['number_of_ratings'] = movielens.loc[(movielens['age'] > 27) & (movielens['age'] <= 40)].groupby(['user_id', 'age'])['rating'].count()\n",
    "user2540_rating_summary.columns = ['average_rating', 'number_of_ratings']\n",
    "\n",
    "user40_rating_summary = pd.DataFrame(movielens.loc[movielens['age'] > 40].groupby(['user_id', 'age'])['rating'].mean())\n",
    "user40_rating_summary['number_of_ratings'] = movielens.loc[movielens['age'] > 40].groupby(['user_id', 'age'])['rating'].count()\n",
    "user40_rating_summary.columns = ['average_rating', 'number_of_ratings']\n",
    "\n",
    "f, (ax1, ax2, ax3) = plt.subplots(1, 3, sharey=True, figsize = (8.5,3))\n",
    "\n",
    "ax1.scatter(user25_rating_summary['number_of_ratings'], user25_rating_summary['average_rating'])\n",
    "ax1.set_title('<=27')\n",
    "ax1.set(xlabel = 'Number of Ratings', ylabel = 'Average Rating')\n",
    "\n",
    "ax2.scatter(user2540_rating_summary['number_of_ratings'], user2540_rating_summary['average_rating'])\n",
    "ax2.set_title('>27 and <=40')\n",
    "ax2.set(xlabel = 'Number of Ratings', ylabel = 'Average Rating')\n",
    "\n",
    "ax3.scatter(user40_rating_summary['number_of_ratings'], user40_rating_summary['average_rating'])\n",
    "ax3.set_title('>40')\n",
    "ax3.set(xlabel = 'Number of Ratings', ylabel = 'Average Rating')"
   ]
  },
  {
   "cell_type": "markdown",
   "metadata": {},
   "source": [
    "The above charts show variances in both the average ratings that they give and the number of ratings that they give. Thus, a new model incorporating biases from the users should be created to get better results."
   ]
  },
  {
   "cell_type": "markdown",
   "metadata": {},
   "source": [
    "Creating a model incorporating bias:"
   ]
  },
  {
   "cell_type": "code",
   "execution_count": 52,
   "metadata": {},
   "outputs": [],
   "source": [
    "def biased_matrix_factorization(R, k=2, alpha=0.1, beta=0.01, steps=20):\n",
    "    #R = input matrix\n",
    "    #k = number of latent factors\n",
    "    #alpha, beta = tuning parameters\n",
    "    #steps = number of iterations\n",
    "    \n",
    "    #Setting variables for the dimensions of the matrix for users and movies:\n",
    "    num_users = R.shape[0]\n",
    "    num_movies = R.shape[1]\n",
    "    \n",
    "    #Setting P and Q as random normalized latent factor matrices\n",
    "    #for users and movies respectively:\n",
    "    P = np.round(np.random.rand(num_users, k), 2)\n",
    "    Q = np.round(np.random.rand(num_movies, k), 2)\n",
    "    \n",
    "    #Setting biases as zeros and the mean of all the non-zero values in the matrix:\n",
    "    b1 = np.zeros(num_users)\n",
    "    b2 = np.zeros(num_movies)\n",
    "    b3 = round(np.mean(R[np.where(R != 0)]),2)\n",
    "    \n",
    "    #Looping to get the least error value:\n",
    "    for n in range(steps):\n",
    "        for i in range(num_users):\n",
    "            for j in range(num_movies):\n",
    "                if R[i][j]>0:\n",
    "                    e = R[i][j] - (b3 + b1[i] + b2[j] + np.round(np.dot(P[i,:],Q[j,:].T),2))\n",
    "                    e = round(e,2)\n",
    "                    \n",
    "                    #Updating biases:\n",
    "                    b1[i] = b1[i] + alpha * (e - beta * b1[i])\n",
    "                    b1[i] = round(b1[i],2)\n",
    "                    b2[j] = b2[j] + alpha * (e - beta * b2[j])\n",
    "                    b2[j] = round(b2[j], 2)\n",
    "                    \n",
    "                    #Updating the user and movie latent feature matrices:\n",
    "                    P[i, :] = P[i, :] + alpha * (e * Q[j, :] - beta * P[i,:])\n",
    "                    P[i, :] = np.round(P[i,:], 2)\n",
    "                    Q[j, :] = Q[j, :] + alpha * (e * P[i, :] - beta * Q[j,:])\n",
    "                    Q[j, :] = np.round(Q[j,:], 2)\n",
    "    \n",
    "    #Returning the predicted matrix:\n",
    "    return(b3 + b1[:,np.newaxis] + b2[np.newaxis:,] + P.dot(Q.T))"
   ]
  },
  {
   "cell_type": "markdown",
   "metadata": {},
   "source": [
    "Running the data on training and testing sets to check for RMSEs:"
   ]
  },
  {
   "cell_type": "code",
   "execution_count": 55,
   "metadata": {},
   "outputs": [],
   "source": [
    "def biased_training_set():\n",
    "    #Creating a list to store the RMSE values for each iteration:\n",
    "    RMSE = list()\n",
    "    \n",
    "    #Creating a loop to run 5 times for the 5 training sets:\n",
    "    for i in range(5):\n",
    "        #Import data:\n",
    "        path = 'C:/Users/Pulkit Dixit/Downloads/ml-100k/ml-100k/u'+str(i+1)+'.base'\n",
    "        train_set = pd.read_csv(path, \n",
    "                                sep='\\t', \n",
    "                                header=None, \n",
    "                                names=['user_id','movie_id','rating','timestamp'])\n",
    "\n",
    "        #Create a pivot table of user_id, movie_id and ratings:\n",
    "        train_set = train_set.pivot_table(index='user_id', columns='movie_id', values='rating', fill_value = 0)\n",
    "        #print(train_set.head())\n",
    "\n",
    "        #Extract a matrix of values:\n",
    "        train_set = train_set.values\n",
    "        train_set = train_set.astype(int)\n",
    "        \n",
    "        #Run the functions:\n",
    "        predR = biased_matrix_factorization(train_set, 10, 0.01, 0.0001, 10)\n",
    "        err = rmse(train_set, predR)\n",
    "        print(err)\n",
    "        RMSE.append(err)\n",
    "    \n",
    "    return(RMSE)"
   ]
  },
  {
   "cell_type": "code",
   "execution_count": 57,
   "metadata": {},
   "outputs": [
    {
     "name": "stdout",
     "output_type": "stream",
     "text": [
      "243.71009484750428\n",
      "243.87416702927\n",
      "244.77726317691253\n",
      "245.03700678558627\n",
      "245.38702164723233\n"
     ]
    }
   ],
   "source": [
    "RMSE_train_biased = biased_training_set()"
   ]
  },
  {
   "cell_type": "code",
   "execution_count": 58,
   "metadata": {},
   "outputs": [
    {
     "name": "stdout",
     "output_type": "stream",
     "text": [
      "The training RMSE for the biased model is: 244.55711069730108\n"
     ]
    }
   ],
   "source": [
    "print('The training RMSE for the biased model is:', sum(RMSE_train_biased)/len(RMSE_train_biased))"
   ]
  },
  {
   "cell_type": "code",
   "execution_count": 61,
   "metadata": {},
   "outputs": [],
   "source": [
    "def biased_test_set():\n",
    "    #Creating a list to store the RMSE values for each iteration:\n",
    "    RMSE = list()\n",
    "    \n",
    "    #Creating a loop to run 5 times for the 5 training sets:\n",
    "    for i in range(5):\n",
    "        #Import data:\n",
    "        path = 'C:/Users/Pulkit Dixit/Downloads/ml-100k/ml-100k/u'+str(i+1)+'.test'\n",
    "        test_set = pd.read_csv(path, \n",
    "                                sep='\\t', \n",
    "                                header=None, \n",
    "                                names=['user_id','movie_id','rating','timestamp'])\n",
    "\n",
    "        #Create a pivot table of user_id, movie_id and ratings:\n",
    "        test_set = test_set.pivot_table(index='user_id', columns='movie_id', values='rating', fill_value = 0)\n",
    "        #print(train_set.head())\n",
    "\n",
    "        #Extract a matrix of values:\n",
    "        test_set = test_set.values\n",
    "        test_set = test_set.astype(int)\n",
    "        \n",
    "        #Run the functions:\n",
    "        predR = biased_matrix_factorization(test_set, 10, 0.01, 0.0001, 10)\n",
    "        err = rmse(test_set, predR)\n",
    "        print(err)\n",
    "        RMSE.append(err)\n",
    "    \n",
    "    return(RMSE)"
   ]
  },
  {
   "cell_type": "code",
   "execution_count": 62,
   "metadata": {},
   "outputs": [
    {
     "name": "stdout",
     "output_type": "stream",
     "text": [
      "95.8994139667703\n",
      "94.79526124617226\n",
      "91.93131653441054\n",
      "93.26568327734472\n",
      "92.60160145067681\n"
     ]
    }
   ],
   "source": [
    "RMSE_test_biased = biased_test_set()"
   ]
  },
  {
   "cell_type": "code",
   "execution_count": 63,
   "metadata": {},
   "outputs": [
    {
     "name": "stdout",
     "output_type": "stream",
     "text": [
      "The test RMSE for the biased model is: 93.69865529507493\n"
     ]
    }
   ],
   "source": [
    "print('The test RMSE for the biased model is:', sum(RMSE_test_biased)/len(RMSE_test_biased))"
   ]
  },
  {
   "cell_type": "markdown",
   "metadata": {},
   "source": [
    "Thus, the RMSE of the recommender system can be improved by incorporating user bias."
   ]
  }
 ],
 "metadata": {
  "kernelspec": {
   "display_name": "Python 3",
   "language": "python",
   "name": "python3"
  },
  "language_info": {
   "codemirror_mode": {
    "name": "ipython",
    "version": 3
   },
   "file_extension": ".py",
   "mimetype": "text/x-python",
   "name": "python",
   "nbconvert_exporter": "python",
   "pygments_lexer": "ipython3",
   "version": "3.6.4"
  }
 },
 "nbformat": 4,
 "nbformat_minor": 2
}
